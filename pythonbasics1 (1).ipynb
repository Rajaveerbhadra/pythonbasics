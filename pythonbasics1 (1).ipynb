{
 "cells": [
  {
   "cell_type": "code",
   "execution_count": 1,
   "id": "5bca0827-9fcc-476f-aab7-7963f5006ad3",
   "metadata": {},
   "outputs": [],
   "source": [
    "a=10"
   ]
  },
  {
   "cell_type": "code",
   "execution_count": 2,
   "id": "44101ae9-40e9-41fd-aeaa-5f0320a4326a",
   "metadata": {},
   "outputs": [],
   "source": [
    "a='c'"
   ]
  },
  {
   "cell_type": "code",
   "execution_count": 4,
   "id": "97e901d0-fbff-471b-b545-937f5b90ba03",
   "metadata": {},
   "outputs": [
    {
     "data": {
      "text/plain": [
       "str"
      ]
     },
     "execution_count": 4,
     "metadata": {},
     "output_type": "execute_result"
    }
   ],
   "source": [
    "type(a)"
   ]
  },
  {
   "cell_type": "code",
   "execution_count": 5,
   "id": "86c11227-851d-4d11-930c-65623ac52488",
   "metadata": {},
   "outputs": [
    {
     "data": {
      "text/plain": [
       "123"
      ]
     },
     "execution_count": 5,
     "metadata": {},
     "output_type": "execute_result"
    }
   ],
   "source": [
    "int('123')"
   ]
  },
  {
   "cell_type": "code",
   "execution_count": 6,
   "id": "8ba628e5-f9f2-4936-94c0-7a9d8d2f91a3",
   "metadata": {},
   "outputs": [
    {
     "name": "stdout",
     "output_type": "stream",
     "text": [
      "Hello World\n"
     ]
    }
   ],
   "source": [
    "print(\"Hello World\")"
   ]
  },
  {
   "cell_type": "code",
   "execution_count": 7,
   "id": "c95e912b-a626-4efe-9826-865e8c81d9b6",
   "metadata": {},
   "outputs": [
    {
     "name": "stdout",
     "output_type": "stream",
     "text": [
      "123\n"
     ]
    }
   ],
   "source": [
    "print(123)"
   ]
  },
  {
   "cell_type": "code",
   "execution_count": 8,
   "id": "4cce48ff-4a23-4679-992b-5215fbffdab6",
   "metadata": {},
   "outputs": [
    {
     "name": "stdout",
     "output_type": "stream",
     "text": [
      "hello World\n"
     ]
    }
   ],
   "source": [
    "print('hello World')"
   ]
  },
  {
   "cell_type": "code",
   "execution_count": 10,
   "id": "600c0f75-3e5f-4f0e-9b55-320ffb5a6ce0",
   "metadata": {},
   "outputs": [
    {
     "name": "stdout",
     "output_type": "stream",
     "text": [
      "my age is: 32\n"
     ]
    }
   ],
   "source": [
    "age=32\n",
    "print(\"my age is:\",age)"
   ]
  },
  {
   "cell_type": "code",
   "execution_count": 15,
   "id": "8dd371b8-ad8a-4106-99c6-025d53b4450c",
   "metadata": {},
   "outputs": [
    {
     "name": "stdout",
     "output_type": "stream",
     "text": [
      "My age is: 32\n"
     ]
    }
   ],
   "source": [
    "##f string\n",
    "print(f\"My age is: {age}\")"
   ]
  },
  {
   "cell_type": "code",
   "execution_count": 25,
   "id": "6b0bf200-02ae-4729-bbc3-2447f33f5933",
   "metadata": {},
   "outputs": [
    {
     "name": "stdout",
     "output_type": "stream",
     "text": [
      "My name is krish and age is 32\n"
     ]
    }
   ],
   "source": [
    "## format()\n",
    "name=\"krish\"\n",
    "age=32\n",
    "print(\"My name is {firstname} and age is {firstage}\".format(firstage=age,firstname=name))"
   ]
  },
  {
   "cell_type": "code",
   "execution_count": 8,
   "id": "b4f3f26b-78e1-4868-8b82-16252ff1fd0d",
   "metadata": {},
   "outputs": [
    {
     "data": {
      "text/plain": [
       "' My age is 27 and i have completed: my dgree of BE and i have completed my Masters in MBA the name of Prasad'"
      ]
     },
     "execution_count": 8,
     "metadata": {},
     "output_type": "execute_result"
    }
   ],
   "source": [
    "name = \"Prasad\"\n",
    "age= \"27\"\n",
    "degree = \"BE\"\n",
    "Masters = \"MBA\"\n",
    "\" My age is 27 and i have completed: my dgree of BE and i have completed my Masters in MBA the name of Prasad\""
   ]
  },
  {
   "cell_type": "code",
   "execution_count": 11,
   "id": "a175eb0d-c4f8-4aee-ac06-93c3eada2d93",
   "metadata": {},
   "outputs": [
    {
     "name": "stdout",
     "output_type": "stream",
     "text": [
      "My age is 27 and i have completed: my degree of BE  and i have completed: Masters in MBA with the name of Prasad\n"
     ]
    }
   ],
   "source": [
    "print(f\"My age is {age} and i have completed: my degree of {degree}  and i have completed: Masters in {Masters} with the name of {name}\")"
   ]
  },
  {
   "cell_type": "markdown",
   "id": "9c1daa89-3207-47b8-b943-7aab049f1762",
   "metadata": {},
   "source": [
    "## control flow\n",
    "### Decision making statements"
   ]
  },
  {
   "cell_type": "code",
   "execution_count": 13,
   "id": "94fecb1d-22a0-4659-9ecc-caeddf3a5cc4",
   "metadata": {},
   "outputs": [
    {
     "name": "stdout",
     "output_type": "stream",
     "text": [
      "you are eligible to  vote\n"
     ]
    }
   ],
   "source": [
    "## if statements\n",
    "age=18\n",
    "if age>=18:\n",
    "    print(\"you are eligible to  vote\")"
   ]
  },
  {
   "cell_type": "code",
   "execution_count": 16,
   "id": "7d9102c6-17b8-40b5-a068-e73abc4248c3",
   "metadata": {},
   "outputs": [
    {
     "name": "stdout",
     "output_type": "stream",
     "text": [
      "you are not eligible to  vote\n"
     ]
    }
   ],
   "source": [
    "## if statements\n",
    "age=17\n",
    "if age<18:\n",
    "    print(\"you are not eligible to  vote\")"
   ]
  },
  {
   "cell_type": "code",
   "execution_count": 17,
   "id": "5ac38113-3dc8-4056-a730-f86e826d4ce0",
   "metadata": {},
   "outputs": [
    {
     "data": {
      "text/plain": [
       "True"
      ]
     },
     "execution_count": 17,
     "metadata": {},
     "output_type": "execute_result"
    }
   ],
   "source": [
    "17<18"
   ]
  },
  {
   "cell_type": "code",
   "execution_count": 19,
   "id": "3fc74aaa-18b8-4af9-a487-d144e744803d",
   "metadata": {},
   "outputs": [
    {
     "name": "stdin",
     "output_type": "stream",
     "text": [
      "enter the name prasad lande\n"
     ]
    }
   ],
   "source": [
    "name=input(\"enter the name\")"
   ]
  },
  {
   "cell_type": "code",
   "execution_count": 21,
   "id": "27a2ef41-fbb1-42d9-baec-8f3227eb8125",
   "metadata": {},
   "outputs": [
    {
     "data": {
      "text/plain": [
       "'prasad lande'"
      ]
     },
     "execution_count": 21,
     "metadata": {},
     "output_type": "execute_result"
    }
   ],
   "source": [
    "name"
   ]
  },
  {
   "cell_type": "code",
   "execution_count": 22,
   "id": "599686f6-5062-4242-ae3b-b308615d63d5",
   "metadata": {},
   "outputs": [
    {
     "name": "stdin",
     "output_type": "stream",
     "text": [
      "enter your age 27\n"
     ]
    }
   ],
   "source": [
    "age=int(input(\"enter your age\"))"
   ]
  },
  {
   "cell_type": "code",
   "execution_count": 23,
   "id": "90035ef1-4454-439e-a5c1-8262a6fdbc62",
   "metadata": {},
   "outputs": [
    {
     "data": {
      "text/plain": [
       "27"
      ]
     },
     "execution_count": 23,
     "metadata": {},
     "output_type": "execute_result"
    }
   ],
   "source": [
    "age"
   ]
  },
  {
   "cell_type": "code",
   "execution_count": 24,
   "id": "d6fb28e0-5b24-4366-aa59-37c4ff28e221",
   "metadata": {},
   "outputs": [
    {
     "data": {
      "text/plain": [
       "int"
      ]
     },
     "execution_count": 24,
     "metadata": {},
     "output_type": "execute_result"
    }
   ],
   "source": [
    "type(age)"
   ]
  },
  {
   "cell_type": "code",
   "execution_count": 25,
   "id": "0fb56101-a2eb-45f8-a81f-afd0c0690286",
   "metadata": {},
   "outputs": [],
   "source": [
    "## task\n",
    "## take a input of age \n",
    "## check whethe age >=18 and age<=45\n",
    "##display a message you are young blood"
   ]
  },
  {
   "cell_type": "code",
   "execution_count": 27,
   "id": "f346a342-7053-41de-ad61-b5a29e17e471",
   "metadata": {},
   "outputs": [
    {
     "name": "stdin",
     "output_type": "stream",
     "text": [
      "enter the age 27\n"
     ]
    },
    {
     "name": "stdout",
     "output_type": "stream",
     "text": [
      "you are young blood\n"
     ]
    }
   ],
   "source": [
    "age= int(input(\"enter the age\"))\n",
    "if age >=18 and age<=45:\n",
    "      print(\"you are young blood\")\n"
   ]
  },
  {
   "cell_type": "code",
   "execution_count": 28,
   "id": "94417fcc-724a-4a70-a164-161361a300e8",
   "metadata": {},
   "outputs": [
    {
     "data": {
      "text/plain": [
       "35"
      ]
     },
     "execution_count": 28,
     "metadata": {},
     "output_type": "execute_result"
    }
   ],
   "source": [
    "35"
   ]
  },
  {
   "cell_type": "code",
   "execution_count": 33,
   "id": "fd1c1b54-a91c-4853-8a94-a06da7f522ef",
   "metadata": {},
   "outputs": [
    {
     "name": "stdin",
     "output_type": "stream",
     "text": [
      "enter the age 43\n"
     ]
    },
    {
     "name": "stdout",
     "output_type": "stream",
     "text": [
      "you are young blood\n"
     ]
    }
   ],
   "source": [
    "age= int(input(\"enter the age\"))\n",
    "if age >=18 and age<=45:\n",
    "      print(\"you are young blood\")"
   ]
  },
  {
   "cell_type": "code",
   "execution_count": 34,
   "id": "027e87b7-1f7b-4945-829e-005cdc5be974",
   "metadata": {},
   "outputs": [
    {
     "name": "stdin",
     "output_type": "stream",
     "text": [
      "enter the age 55\n"
     ]
    }
   ],
   "source": [
    "age= int(input(\"enter the age\"))\n",
    "if age >=18 and age<=45:\n",
    "      print(\"you are young blood\")"
   ]
  },
  {
   "cell_type": "code",
   "execution_count": 35,
   "id": "0d1855f0-be61-49bb-bdff-d54972502597",
   "metadata": {},
   "outputs": [
    {
     "name": "stdin",
     "output_type": "stream",
     "text": [
      "enter the age 55\n"
     ]
    },
    {
     "name": "stdout",
     "output_type": "stream",
     "text": [
      "Thank you for your time we will let you know\n"
     ]
    }
   ],
   "source": [
    "## if else statement\n",
    "age= int(input(\"enter the age\"))\n",
    "if age >=18 and age<=45:\n",
    "      print(\"you are young blood\")\n",
    "else:\n",
    "    print(\"Thank you for your time we will let you know\")"
   ]
  },
  {
   "cell_type": "code",
   "execution_count": 36,
   "id": "82179b71-bb74-4138-aff6-7a3df93e6dbb",
   "metadata": {},
   "outputs": [],
   "source": [
    "## mall -input the product price \n",
    "##product > Rs. 750 20% off\n",
    "## print the product  price \n",
    "## product <= Rs.750 30% off\n",
    "## print the product  price "
   ]
  },
  {
   "cell_type": "code",
   "execution_count": 45,
   "id": "5d14588d-4bb8-4cde-80ba-89af7650ac80",
   "metadata": {},
   "outputs": [
    {
     "name": "stdin",
     "output_type": "stream",
     "text": [
      "product price is 5000\n"
     ]
    },
    {
     "name": "stdout",
     "output_type": "stream",
     "text": [
      "product price is 4000.0\n"
     ]
    }
   ],
   "source": [
    "Product_price=int(input(\"product price is\"))\n",
    "if Product_price > 750:\n",
    "    print(\"product price is {}\".format(Product_price*0.80))\n",
    "else:\n",
    "     print(\"product price is {}\".format(Product_price*0.70))"
   ]
  },
  {
   "cell_type": "code",
   "execution_count": 46,
   "id": "677af72d-f60a-4df2-be26-552cacceaa3d",
   "metadata": {},
   "outputs": [
    {
     "name": "stdin",
     "output_type": "stream",
     "text": [
      "product price is 5000\n"
     ]
    },
    {
     "name": "stdout",
     "output_type": "stream",
     "text": [
      "product price is 4000.0\n"
     ]
    }
   ],
   "source": [
    "\n",
    "Product_price=int(input(\"product price is\"))\n",
    "if Product_price > 750:\n",
    "    print(\"product price is {}\".format(Product_price*0.80))\n",
    "else:\n",
    "     print(\"product price is {}\".format(Product_price*0.70))\n",
    "        "
   ]
  },
  {
   "cell_type": "code",
   "execution_count": null,
   "id": "4b7a0fd4-14a8-4dde-b6b8-f0f95b58af33",
   "metadata": {},
   "outputs": [],
   "source": [
    "Product_price=int(input(\"product price is\"))\n",
    "if Product_price > 750:\n",
    "    print(f\"product price is\" {Product_price*0.80}\")\n",
    "else:\n",
    "     print(f\"product price is\"{Product_price*0.70})\n",
    "        "
   ]
  },
  {
   "cell_type": "code",
   "execution_count": null,
   "id": "18e8e23c-9996-44ac-92d5-0f4c535d0ff0",
   "metadata": {},
   "outputs": [],
   "source": []
  }
 ],
 "metadata": {
  "kernelspec": {
   "display_name": "Python 3 (ipykernel)",
   "language": "python",
   "name": "python3"
  },
  "language_info": {
   "codemirror_mode": {
    "name": "ipython",
    "version": 3
   },
   "file_extension": ".py",
   "mimetype": "text/x-python",
   "name": "python",
   "nbconvert_exporter": "python",
   "pygments_lexer": "ipython3",
   "version": "3.10.8"
  }
 },
 "nbformat": 4,
 "nbformat_minor": 5
}
